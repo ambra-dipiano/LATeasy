{
 "cells": [
  {
   "cell_type": "code",
   "execution_count": 1,
   "metadata": {},
   "outputs": [
    {
     "data": {
      "text/plain": [
       "(array([3.83616003e+08]), array([3.83616003e+08]), array([0.]))"
      ]
     },
     "execution_count": 1,
     "metadata": {},
     "output_type": "execute_result"
    }
   ],
   "source": [
    "import numpy as np\n",
    "from os.path import join\n",
    "\n",
    "folder = '/data01/projects/IGRJ17354-3255/FERMI/LC/TMP'\n",
    "bin1 = 'D13_383623203_383709603/igrj17354-3255_lightcurve.npy'\n",
    "bin2 = 'D13_383619603_383706003/igrj17354-3255_lightcurve.npy'\n",
    "\n",
    "filename1 = join(folder, bin1)\n",
    "lc1 = np.load(filename1, allow_pickle=True, encoding='latin1', fix_imports=True).flat[0]\n",
    "\n",
    "filename2 = join(folder, bin2)\n",
    "lc2 = np.load(filename2, allow_pickle=True, encoding='latin1', fix_imports=True).flat[0]\n",
    "\n",
    "lc1['tmin'], lc2['tmin'], lc1['tmin']-lc2['tmin']"
   ]
  },
  {
   "cell_type": "code",
   "execution_count": null,
   "metadata": {},
   "outputs": [],
   "source": []
  }
 ],
 "metadata": {
  "interpreter": {
   "hash": "1edfdf6bc3714b0216aed8d9f2b03ef7da6d6a97c2a69ef53d1a4542dfc7c106"
  },
  "kernelspec": {
   "display_name": "Python 3.7.7 ('fermipy3')",
   "language": "python",
   "name": "python3"
  },
  "language_info": {
   "codemirror_mode": {
    "name": "ipython",
    "version": 3
   },
   "file_extension": ".py",
   "mimetype": "text/x-python",
   "name": "python",
   "nbconvert_exporter": "python",
   "pygments_lexer": "ipython3",
   "version": "3.7.7"
  },
  "orig_nbformat": 4
 },
 "nbformat": 4,
 "nbformat_minor": 2
}
